{
  "nbformat": 4,
  "nbformat_minor": 0,
  "metadata": {
    "colab": {
      "provenance": [],
      "authorship_tag": "ABX9TyMf6+rbJ+oLEHPd0tQu/1Zp",
      "include_colab_link": true
    },
    "kernelspec": {
      "name": "python3",
      "display_name": "Python 3"
    },
    "language_info": {
      "name": "python"
    }
  },
  "cells": [
    {
      "cell_type": "markdown",
      "metadata": {
        "id": "view-in-github",
        "colab_type": "text"
      },
      "source": [
        "<a href=\"https://colab.research.google.com/github/mmacom/Proiecte_facultate_py/blob/main/invatareautomatatema3.ipynb\" target=\"_parent\"><img src=\"https://colab.research.google.com/assets/colab-badge.svg\" alt=\"Open In Colab\"/></a>"
      ]
    },
    {
      "cell_type": "markdown",
      "source": [
        ". Prezentarea algoritmilor\n",
        "# Regresia Logistică este utilizată pentru clasificarea binară, prezicând probabilitatea apartenenței unei instanțe la o anumită clasă.\n",
        "# K-Nearest Neighbors clasifică o instanță pe baza celor mai apropiați vecini din setul de antrenament.\n",
        "# Naive Bayes presupune independența dintre caracteristici și utilizează teorema lui Bayes pentru clasificare.\n",
        "# ID3 (Decision Tree) creează un arbore de decizie pe baza informației și a entropiei.\n",
        "\n"
      ],
      "metadata": {
        "id": "NQPWP-72Hjed"
      }
    },
    {
      "cell_type": "markdown",
      "source": [
        "2. Descrierea problemei\n",
        "# Vom rezolva problema detectării fraudelor în tranzacții financiare. Setul de date conține caracteristici numerice ale tranzacțiilor,\n",
        "# iar etichetele indică dacă o tranzacție este frauduloasă sau nu. Scopul este să comparăm performanța celor patru algoritmi pentru această problemă."
      ],
      "metadata": {
        "id": "lxAfEqBtIHjE"
      }
    },
    {
      "cell_type": "markdown",
      "source": [
        "3. Generarea setului de date sintetic"
      ],
      "metadata": {
        "id": "eKVz5K1HIO8U"
      }
    },
    {
      "cell_type": "code",
      "source": [
        "X, y = make_classification(n_samples=10000, n_features=20, n_classes=2,\n",
        "                           weights=[0.95, 0.05], random_state=42)\n",
        "data = pd.DataFrame(X, columns=[f'Feature_{i}' for i in range(20)])\n",
        "data['Class'] = y"
      ],
      "metadata": {
        "id": "oE7VRHupISd0"
      },
      "execution_count": 2,
      "outputs": []
    },
    {
      "cell_type": "markdown",
      "source": [
        " 4. Împărțirea setului de date în antrenament și testare"
      ],
      "metadata": {
        "id": "FBjtg12MIUIL"
      }
    },
    {
      "cell_type": "code",
      "source": [
        "X_train, X_test, y_train, y_test = train_test_split(X, y, test_size=0.3, random_state=42)"
      ],
      "metadata": {
        "id": "x-UuO-t1IWTs"
      },
      "execution_count": 3,
      "outputs": []
    },
    {
      "cell_type": "markdown",
      "source": [
        "5. Standardizarea caracteristicilor"
      ],
      "metadata": {
        "id": "xks2bImNIZT0"
      }
    },
    {
      "cell_type": "code",
      "source": [
        "scaler = StandardScaler()\n",
        "X_train = scaler.fit_transform(X_train)\n",
        "X_test = scaler.transform(X_test)\n"
      ],
      "metadata": {
        "id": "xoS5fcA_IbRs"
      },
      "execution_count": 4,
      "outputs": []
    },
    {
      "cell_type": "markdown",
      "source": [
        "6. Antrenarea modelului Logistic Regression"
      ],
      "metadata": {
        "id": "Fe_yM37KIdvs"
      }
    },
    {
      "cell_type": "code",
      "source": [
        "logreg = LogisticRegression()\n",
        "logreg.fit(X_train, y_train)\n",
        "y_pred_logreg = logreg.predict(X_test)"
      ],
      "metadata": {
        "id": "bG56MVwXIgf8"
      },
      "execution_count": 5,
      "outputs": []
    },
    {
      "cell_type": "markdown",
      "source": [
        " 7. Antrenarea modelului KNN"
      ],
      "metadata": {
        "id": "NBHEv85hIjmz"
      }
    },
    {
      "cell_type": "code",
      "source": [
        "knn = KNeighborsClassifier(n_neighbors=5)\n",
        "knn.fit(X_train, y_train)\n",
        "y_pred_knn = knn.predict(X_test)"
      ],
      "metadata": {
        "id": "dBRLkgHhIlfz"
      },
      "execution_count": 6,
      "outputs": []
    },
    {
      "cell_type": "markdown",
      "source": [
        "8. Antrenarea modelului Naive Bayes"
      ],
      "metadata": {
        "id": "_IgUTDHEIoqD"
      }
    },
    {
      "cell_type": "code",
      "source": [
        "nb = GaussianNB()\n",
        "nb.fit(X_train, y_train)\n",
        "y_pred_nb = nb.predict(X_test)"
      ],
      "metadata": {
        "id": "So9IRgmDIrB8"
      },
      "execution_count": 7,
      "outputs": []
    },
    {
      "cell_type": "markdown",
      "source": [
        "9. Antrenarea modelului ID3 (Decision Tree)"
      ],
      "metadata": {
        "id": "KkORyiZXIth8"
      }
    },
    {
      "cell_type": "code",
      "source": [
        "id3 = DecisionTreeClassifier(criterion='entropy', random_state=42)\n",
        "id3.fit(X_train, y_train)\n",
        "y_pred_id3 = id3.predict(X_test)"
      ],
      "metadata": {
        "id": "LdfpaKFPIvib"
      },
      "execution_count": 8,
      "outputs": []
    },
    {
      "cell_type": "markdown",
      "source": [
        "10. Evaluarea modelelor"
      ],
      "metadata": {
        "id": "cXfXMBUnIyCc"
      }
    },
    {
      "cell_type": "code",
      "source": [
        "models = {'Logistic Regression': y_pred_logreg, 'KNN': y_pred_knn, 'Naive Bayes': y_pred_nb, 'ID3': y_pred_id3}\n",
        "metrics = {}\n",
        "conf_matrices = {}\n",
        "\n",
        "for model_name, y_pred in models.items():\n",
        "    metrics[model_name] = {\n",
        "        'Acuratețe': accuracy_score(y_test, y_pred),\n",
        "        'Recall': recall_score(y_test, y_pred),\n",
        "        'Precizie': precision_score(y_test, y_pred),\n",
        "        'F1 Score': f1_score(y_test, y_pred)\n",
        "    }\n",
        "    conf_matrices[model_name] = confusion_matrix(y_test, y_pred)"
      ],
      "metadata": {
        "id": "Mem1eoJ3Iz2s"
      },
      "execution_count": 9,
      "outputs": []
    },
    {
      "cell_type": "markdown",
      "source": [
        "11. Afișarea metricilor și comparația rezultatelor"
      ],
      "metadata": {
        "id": "yKejTkI5I3t7"
      }
    },
    {
      "cell_type": "code",
      "source": [
        "for model_name, cm in conf_matrices.items():\n",
        "    print(f\"\\nMatricea de Confuzie {model_name}:\")\n",
        "    print(cm)\n",
        "    print(f\"Metrici {model_name}: {metrics[model_name]}\")"
      ],
      "metadata": {
        "colab": {
          "base_uri": "https://localhost:8080/"
        },
        "id": "HBXGkqGgI51L",
        "outputId": "fd54c972-707c-49a8-ed4f-1925d3f7777b"
      },
      "execution_count": 10,
      "outputs": [
        {
          "output_type": "stream",
          "name": "stdout",
          "text": [
            "\n",
            "Matricea de Confuzie Logistic Regression:\n",
            "[[2823   15]\n",
            " [ 107   55]]\n",
            "Metrici Logistic Regression: {'Acuratețe': 0.9593333333333334, 'Recall': 0.3395061728395062, 'Precizie': 0.7857142857142857, 'F1 Score': 0.47413793103448276}\n",
            "\n",
            "Matricea de Confuzie KNN:\n",
            "[[2827   11]\n",
            " [ 127   35]]\n",
            "Metrici KNN: {'Acuratețe': 0.954, 'Recall': 0.21604938271604937, 'Precizie': 0.7608695652173914, 'F1 Score': 0.33653846153846156}\n",
            "\n",
            "Matricea de Confuzie Naive Bayes:\n",
            "[[2707  131]\n",
            " [  62  100]]\n",
            "Metrici Naive Bayes: {'Acuratețe': 0.9356666666666666, 'Recall': 0.6172839506172839, 'Precizie': 0.4329004329004329, 'F1 Score': 0.5089058524173028}\n",
            "\n",
            "Matricea de Confuzie ID3:\n",
            "[[2750   88]\n",
            " [  79   83]]\n",
            "Metrici ID3: {'Acuratețe': 0.9443333333333334, 'Recall': 0.5123456790123457, 'Precizie': 0.4853801169590643, 'F1 Score': 0.4984984984984985}\n"
          ]
        }
      ]
    },
    {
      "cell_type": "markdown",
      "source": [
        "12. Vizualizarea rezultatelor"
      ],
      "metadata": {
        "id": "5f_vU1a1I9ZM"
      }
    },
    {
      "cell_type": "code",
      "source": [
        "fig, axes = plt.subplots(2, 2, figsize=(12, 10))\n",
        "for ax, (model_name, cm) in zip(axes.flatten(), conf_matrices.items()):\n",
        "    sns.heatmap(cm, annot=True, fmt='d', ax=ax, cmap='coolwarm')\n",
        "    ax.set_title(f\"Matrice Confuzie {model_name}\")\n",
        "plt.show()"
      ],
      "metadata": {
        "colab": {
          "base_uri": "https://localhost:8080/",
          "height": 853
        },
        "id": "NkxINxo2I_Zr",
        "outputId": "64f7a528-d86e-417d-b5a7-5e87e0688fe2"
      },
      "execution_count": 11,
      "outputs": [
        {
          "output_type": "display_data",
          "data": {
            "text/plain": [
              "<Figure size 1200x1000 with 8 Axes>"
            ],
            "image/png": "[encoded data removed]"
          },
          "metadata": {}
        }
      ]
    },
    {
      "cell_type": "markdown",
      "source": [
        " 13. Concluzii\n",
        "# Comparăm metricile obținute și discutăm care algoritm oferă rezultate mai bune pentru detectarea fraudei.\n",
        "\n"
      ],
      "metadata": {
        "id": "wMVyAMFtJEbs"
      }
    }
  ]
}