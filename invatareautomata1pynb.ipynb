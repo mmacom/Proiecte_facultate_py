{
  "nbformat": 4,
  "nbformat_minor": 0,
  "metadata": {
    "colab": {
      "provenance": [],
      "authorship_tag": "ABX9TyPWoQto1jZWusDLZ6xJT17+",
      "include_colab_link": true
    },
    "kernelspec": {
      "name": "python3",
      "display_name": "Python 3"
    },
    "language_info": {
      "name": "python"
    }
  },
  "cells": [
    {
      "cell_type": "markdown",
      "metadata": {
        "id": "view-in-github",
        "colab_type": "text"
      },
      "source": [
        "<a href=\"https://colab.research.google.com/github/mmacom/Proiecte_facultate_py/blob/main/invatareautomata1pynb.ipynb\" target=\"_parent\"><img src=\"https://colab.research.google.com/assets/colab-badge.svg\" alt=\"Open In Colab\"/></a>"
      ]
    },
    {
      "cell_type": "code",
      "execution_count": null,
      "metadata": {
        "id": "Jf_lndY4ic0I"
      },
      "outputs": [],
      "source": []
    },
    {
      "cell_type": "markdown",
      "source": [
        "1. Prezentarea pe scurt a algoritmului\n",
        "Regresia liniară este un model de învățare automată folosit pentru a prezice o variabilă dependentă bazându-se pe una sau mai multe variabile independente. Algoritmul caută să găsească cea mai bună linie care se potrivește cu datele\n"
      ],
      "metadata": {
        "id": "oLalUbDXjEBj"
      }
    },
    {
      "cell_type": "code",
      "source": [
        "import pandas as pd\n",
        "import numpy as np\n",
        "import matplotlib.pyplot as plt\n",
        "import seaborn as sns\n",
        "from sklearn.model_selection import train_test_split\n",
        "from sklearn.linear_model import LinearRegression\n",
        "from sklearn.preprocessing import OneHotEncoder\n",
        "from sklearn.compose import ColumnTransformer\n",
        "from sklearn.pipeline import Pipeline\n",
        "from sklearn.metrics import mean_squared_error, r2_score"
      ],
      "metadata": {
        "id": "rRbRiHLAjFlT"
      },
      "execution_count": null,
      "outputs": []
    },
    {
      "cell_type": "markdown",
      "source": [
        "2. Descrierea problemei\n",
        "În acest exemplu, vom prezice prețul unui mobilier pe baza caracteristicilor sale, cum ar fi dimensiunile (lungime, lățime, înălțime), tipul de material (lemn, metal, plastic) și tipul de mobilier (masă, scaun, dulap). Acest tip de predicție este util pentru producători și comercianți, ajutându-i să stabilească prețuri corecte și competitive pentru produsele lor."
      ],
      "metadata": {
        "id": "wSecfkrfjKfP"
      }
    },
    {
      "cell_type": "code",
      "source": [
        "# Creăm un set de date fictiv\n",
        "data = {\n",
        "    'lungime': [100, 150, 200, 120, 180, 220, 90, 110],\n",
        "    'latime': [60, 70, 80, 50, 75, 90, 40, 55],\n",
        "    'inaltime': [75, 100, 90, 85, 120, 150, 40, 60],\n",
        "    'tip_material': ['lemn', 'metal', 'lemn', 'plastic', 'metal', 'lemn', 'plastic', 'lemn'],\n",
        "    'tip_mobilier': ['masă', 'masă', 'scaun', 'scaun', 'dulap', 'masă', 'dulap', 'scaun'],\n",
        "    'pret': [200, 300, 450, 150, 500, 600, 100, 250]\n",
        "}\n",
        "df = pd.DataFrame(data)"
      ],
      "metadata": {
        "id": "amUCEYYzjNYj"
      },
      "execution_count": null,
      "outputs": []
    },
    {
      "cell_type": "markdown",
      "source": [
        "3. Prezentarea librăriilor\n",
        "Pandas: Utilizată pentru manipularea și prelucrarea datelor, ne ajută să citim și să analizăm setul de date.\n",
        "NumPy: Oferă funcții matematice necesare pentru calculele numerice din regresie.\n",
        "Matplotlib/Seaborn: Folosite pentru vizualizarea datelor și a rezultatelor modelului.\n",
        "Scikit-learn: Biblioteca care conține implementarea regresiei liniare și funcții pentru împărțirea datelor și evaluarea modelului."
      ],
      "metadata": {
        "id": "yNWuXr1GjQ4Z"
      }
    },
    {
      "cell_type": "code",
      "source": [
        "sns.pairplot(df, hue='tip_mobilier')\n",
        "plt.show()"
      ],
      "metadata": {
        "id": "1O0_QayIjUHf"
      },
      "execution_count": null,
      "outputs": []
    },
    {
      "cell_type": "code",
      "source": [
        "4. Descrierea setului de date\n",
        "Vom folosi un set de date fictiv care conține informații despre diverse tipuri de mobilier. Setul de date include următoarele coloane:\n",
        "\n",
        "lungime (cm): Lungimea mobilierului.\n",
        "latime (cm): Lățimea mobilierului.\n",
        "inaltime (cm): Înălțimea mobilierului.\n",
        "tip_material: Tipul de material (lemn, metal, plastic).\n",
        "tip_mobilier: Tipul de mobilier (masă, scaun, dulap).\n",
        "pret (EUR): Prețul mobilierului.\n",
        "5. Algoritmul ce rezolvă pro"
      ],
      "metadata": {
        "id": "8jkYw_pwjW6M"
      },
      "execution_count": null,
      "outputs": []
    },
    {
      "cell_type": "code",
      "source": [
        "# Definim variabilele explicative și ținta\n",
        "X = df[['lungime', 'latime', 'inaltime', 'tip_material', 'tip_mobilier']]\n",
        "y = df['pret']\n",
        "\n",
        "# Împărțim datele\n",
        "X_train, X_test, y_train, y_test = train_test_split(X, y, test_size=0.2, random_state=42)"
      ],
      "metadata": {
        "id": "w0rSW2pfjaAf"
      },
      "execution_count": null,
      "outputs": []
    },
    {
      "cell_type": "markdown",
      "source": [
        "5: Crearea pipeline-ului pentru prelucrarea datelor și modelare\n",
        "python\n",
        "Copy code\n",
        "# Definim transformatorul pentru variabilele categorice\n",
        "preprocessor = ColumnTransformer(\n",
        "    transformers=[\n",
        "        ('cat', OneHotEncoder(), ['tip_material', 'tip_mobilier'])\n",
        "    ],\n",
        "    remainder='passthrough'  # păstrează celelalte coloane\n",
        ")\n",
        "\n",
        "# Creăm pipeline-ul\n",
        "pipeline = Pipeline(steps=[('preprocessor', preprocessor),\n",
        "                             ('model', LinearRegression())])\n",
        "\n",
        "# Antrenăm modelul\n",
        "pipeline.fit(X_train, y_train)"
      ],
      "metadata": {
        "id": "J7h3zMRyjdp9"
      }
    },
    {
      "cell_type": "markdown",
      "source": [],
      "metadata": {
        "id": "39xAe_Iyjq75"
      }
    },
    {
      "cell_type": "markdown",
      "source": [
        "6. Specificare cât se folosește ca antrenare și cât ca testare\n",
        "Am folosit 80% din date pentru antrenare (X_train, y_train) și 20% pentru testare (X_test, y_test).\n"
      ],
      "metadata": {
        "id": "CGeTnG58jy_k"
      }
    },
    {
      "cell_type": "code",
      "source": [
        "# Facem predicții\n",
        "y_pred = pipeline.predict(X_test)\n",
        "\n",
        "# Evaluăm modelul\n",
        "mse = mean_squared_error(y_test, y_pred)\n",
        "r2 = r2_score(y_test, y_pred)\n",
        "\n",
        "print(f'MSE: {mse}')\n",
        "print(f'R^2: {r2}')"
      ],
      "metadata": {
        "id": "kzDIVQ09j0Tq"
      },
      "execution_count": null,
      "outputs": []
    },
    {
      "cell_type": "markdown",
      "source": [
        "Concluzii\n",
        "Modelul de regresie liniară aplicat pe datele mobilierului a demonstrat o capacitate de a prezice prețurile în funcție de caracteristicile fizice și tipurile de material. Cu toate acestea, modelul ar putea fi îmbunătățit prin adăugarea altor variabile relevante sau prin utilizarea unor metode mai avansate de învățare automată. Experimentarea cu date reale și optimizarea modelului sunt pași importanți pentru a obține rezultate mai precise în predicția prețului mobilierului.\n",
        "\n",
        "\n",
        "\n"
      ],
      "metadata": {
        "id": "ugP22dh1j8Sf"
      }
    }
  ]
}